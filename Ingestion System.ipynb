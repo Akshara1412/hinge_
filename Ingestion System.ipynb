{
 "cells": [
  {
   "cell_type": "code",
   "execution_count": 2,
   "id": "48a10c74",
   "metadata": {},
   "outputs": [],
   "source": [
    "import sqlite3\n",
    "import pandas as pd\n",
    "\n",
    "# Load the data files\n",
    "unity_df = pd.read_csv('C:\\\\Users\\\\AKSHARA RAJ MAKWANA\\\\Desktop\\\\hinge\\\\interviews-data_akshara1412-main\\\\interviews-data_akshara1412-main\\\\unity_golf_club.csv')\n",
    "us_softball_df = pd.read_csv('C:\\\\Users\\\\AKSHARA RAJ MAKWANA\\\\Desktop\\\\hinge\\\\interviews-data_akshara1412-main\\\\interviews-data_akshara1412-main\\\\us_softball_league.tsv', delimiter='\\t')\n",
    "companies_df = pd.read_csv('C:\\\\Users\\\\AKSHARA RAJ MAKWANA\\\\Desktop\\\\hinge\\\\interviews-data_akshara1412-main\\\\interviews-data_akshara1412-main\\\\companies.csv')\n"
   ]
  },
  {
   "cell_type": "code",
   "execution_count": 3,
   "id": "5cd715ef",
   "metadata": {},
   "outputs": [],
   "source": [
    "# Create a connection to the SQLite3 database\n",
    "conn = sqlite3.connect('orders.db')"
   ]
  },
  {
   "cell_type": "code",
   "execution_count": 4,
   "id": "84f6cb94",
   "metadata": {},
   "outputs": [
    {
     "data": {
      "text/plain": [
       "8466"
      ]
     },
     "execution_count": 4,
     "metadata": {},
     "output_type": "execute_result"
    }
   ],
   "source": [
    "# Create the unity table\n",
    "unity_df.to_sql('unity', conn, if_exists='replace', index=False)"
   ]
  },
  {
   "cell_type": "code",
   "execution_count": 5,
   "id": "efd68b2d",
   "metadata": {},
   "outputs": [
    {
     "data": {
      "text/plain": [
       "7652"
      ]
     },
     "execution_count": 5,
     "metadata": {},
     "output_type": "execute_result"
    }
   ],
   "source": [
    "# Create the us_softball table\n",
    "us_softball_df.to_sql('us_softball', conn, if_exists='replace', index=False)\n"
   ]
  },
  {
   "cell_type": "code",
   "execution_count": 7,
   "id": "dc7ef370",
   "metadata": {},
   "outputs": [
    {
     "data": {
      "text/plain": [
       "20"
      ]
     },
     "execution_count": 7,
     "metadata": {},
     "output_type": "execute_result"
    }
   ],
   "source": [
    "# Create the companies table\n",
    "companies_df.to_sql('companies', conn, if_exists='replace', index=False)\n"
   ]
  },
  {
   "cell_type": "code",
   "execution_count": 8,
   "id": "9fb2c812",
   "metadata": {},
   "outputs": [],
   "source": [
    "# Commit the changes and close the connection\n",
    "conn.commit()\n",
    "conn.close()"
   ]
  },
  {
   "cell_type": "code",
   "execution_count": null,
   "id": "1198640d",
   "metadata": {},
   "outputs": [],
   "source": []
  }
 ],
 "metadata": {
  "kernelspec": {
   "display_name": "Python 3 (ipykernel)",
   "language": "python",
   "name": "python3"
  },
  "language_info": {
   "codemirror_mode": {
    "name": "ipython",
    "version": 3
   },
   "file_extension": ".py",
   "mimetype": "text/x-python",
   "name": "python",
   "nbconvert_exporter": "python",
   "pygments_lexer": "ipython3",
   "version": "3.9.12"
  }
 },
 "nbformat": 4,
 "nbformat_minor": 5
}
